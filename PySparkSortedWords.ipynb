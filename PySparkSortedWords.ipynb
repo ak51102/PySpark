{
  "nbformat": 4,
  "nbformat_minor": 0,
  "metadata": {
    "colab": {
      "name": "PySparkSortedWords.ipynb",
      "provenance": [],
      "private_outputs": true,
      "include_colab_link": true
    },
    "kernelspec": {
      "name": "python3",
      "display_name": "Python 3"
    }
  },
  "cells": [
    {
      "cell_type": "markdown",
      "metadata": {
        "id": "view-in-github",
        "colab_type": "text"
      },
      "source": [
        "<a href=\"https://colab.research.google.com/github/cagBRT/PySpark/blob/master/PySparkSortedWords.ipynb\" target=\"_parent\"><img src=\"https://colab.research.google.com/assets/colab-badge.svg\" alt=\"Open In Colab\"/></a>"
      ]
    },
    {
      "cell_type": "markdown",
      "metadata": {
        "id": "pgsRAQDzUAF7",
        "colab_type": "text"
      },
      "source": [
        "https://hogut.weebly.com/blog/word-count-in-apache-spark-at-google-colab"
      ]
    },
    {
      "cell_type": "code",
      "metadata": {
        "id": "fO32etdFU4oJ",
        "colab_type": "code",
        "colab": {}
      },
      "source": [
        "!git clone https://github.com/cagBRT/PySpark.git"
      ],
      "execution_count": 0,
      "outputs": []
    },
    {
      "cell_type": "markdown",
      "metadata": {
        "id": "3MDmH23O2bzN",
        "colab_type": "text"
      },
      "source": [
        "# Setup Spark"
      ]
    },
    {
      "cell_type": "code",
      "metadata": {
        "id": "UPBTzKW-O5Vg",
        "colab_type": "code",
        "colab": {}
      },
      "source": [
        "#Setting up Apache Spark\n",
        "!apt-get install openjdk-8-jdk-headless -qq > /dev/null\n",
        "!wget -q http://apache-mirror.8birdsvideo.com/spark/spark-2.4.4/spark-2.4.4-bin-hadoop2.7.tgz\n",
        "!tar xf spark-2.4.4-bin-hadoop2.7.tgz\n",
        "!pip install -q findspark\n",
        "\n",
        "import os\n",
        "os.environ[\"JAVA_HOME\"] = \"/usr/lib/jvm/java-8-openjdk-amd64\"\n",
        "os.environ[\"SPARK_HOME\"] = \"/content/spark-2.4.4-bin-hadoop2.7\"\n",
        "\n",
        "import findspark\n",
        "findspark.init()\n",
        "\n",
        "from pyspark.sql import SparkSession\n",
        "spark = SparkSession.builder.master(\"local[*]\").getOrCreate()\n",
        "\n",
        "print(\"If no error - everything is working\")\n",
        "\n",
        "from pyspark import SparkContext\n",
        "sc = SparkContext.getOrCreate()\n",
        "\n",
        "#from google.colab import drive\n",
        "# This will prompt for authorization.\n",
        "\n",
        "drive.mount('/content/drive')\n"
      ],
      "execution_count": 0,
      "outputs": []
    },
    {
      "cell_type": "code",
      "metadata": {
        "id": "l7q3Yaww7gAK",
        "colab_type": "code",
        "colab": {}
      },
      "source": [
        "import urllib.request\n",
        "#shkspr=urllib.request.urlretrieve('https://ocw.mit.edu/ans7870/6/6.006/s08/lecturenotes/files/t8.shakespeare.txt','/content/drive/My Drive/shakespeare.txt')\n",
        "\n",
        "#!ls '/content/drive/My Drive'"
      ],
      "execution_count": 0,
      "outputs": []
    },
    {
      "cell_type": "code",
      "metadata": {
        "id": "t714VxFTVMRu",
        "colab_type": "code",
        "colab": {}
      },
      "source": [
        "#Count the number of words in all of Shakespear's works\n",
        "Words=sc.textFile(\"/content/drive/My Drive/shakespeare.txt\")\n",
        "Lincoln = sc.textFile(\"Gettysburg\")\n",
        "WordsCount=Words.flatMap(lambda line: line.split(\" \")).map(lambda word: (word, 1))\n",
        "WordsCount.count()"
      ],
      "execution_count": 0,
      "outputs": []
    },
    {
      "cell_type": "code",
      "metadata": {
        "id": "Z7AOlXXSn6jg",
        "colab_type": "code",
        "colab": {}
      },
      "source": [
        "print(f\"The shape of all of Shakespeare works is {Words.count():d} lines\" )"
      ],
      "execution_count": 0,
      "outputs": []
    },
    {
      "cell_type": "code",
      "metadata": {
        "id": "nYSUC-wdk5FC",
        "colab_type": "code",
        "colab": {}
      },
      "source": [
        "print(type(Words))"
      ],
      "execution_count": 0,
      "outputs": []
    },
    {
      "cell_type": "code",
      "metadata": {
        "id": "K7w1jZlpnG_T",
        "colab_type": "code",
        "colab": {}
      },
      "source": [
        "print(type(Lincoln))"
      ],
      "execution_count": 0,
      "outputs": []
    },
    {
      "cell_type": "code",
      "metadata": {
        "id": "BAp9gHXxnObZ",
        "colab_type": "code",
        "colab": {}
      },
      "source": [
        "LincolnCount=Lincoln.flatMap(lambda line: line.split(\" \")).map(lambda word: (word, 1))\n",
        "LincolnCount.count()"
      ],
      "execution_count": 0,
      "outputs": []
    },
    {
      "cell_type": "code",
      "metadata": {
        "id": "08KjxEuLVgC_",
        "colab_type": "code",
        "colab": {}
      },
      "source": [
        "#Count the number of distinct words\n",
        "DistinctWordsCount=WordsCount.reduceByKey(lambda a,b: a+b)\n",
        "DistinctWordsCount.count()"
      ],
      "execution_count": 0,
      "outputs": []
    },
    {
      "cell_type": "code",
      "metadata": {
        "id": "CfqeO-pJTS0b",
        "colab_type": "code",
        "colab": {}
      },
      "source": [
        "#Sort the words by most-to-least words\n",
        "SortedWordsCount=DistinctWordsCount.map(lambda a: (a[1], a[0])).sortByKey()\n",
        "#print most frequent 20 words\n",
        "SortedWordsCount.top(20)\n"
      ],
      "execution_count": 0,
      "outputs": []
    },
    {
      "cell_type": "code",
      "metadata": {
        "id": "5Aehq2C_V9zq",
        "colab_type": "code",
        "colab": {}
      },
      "source": [
        "#number of words=1418390-(517065, '')=901325\n",
        "Sorted_final=SortedWordsCount.map(lambda a: (a[1], a[0]))\n",
        "Sorted_final.top(60)"
      ],
      "execution_count": 0,
      "outputs": []
    },
    {
      "cell_type": "code",
      "metadata": {
        "id": "z8ey8vCP1-98",
        "colab_type": "code",
        "colab": {}
      },
      "source": [
        "numAs = Words.filter(lambda s: 'a' in s).count()\n",
        "numBs = Words.filter(lambda s: 'b' in s).count()\n",
        "print (\"number of a's = \", numAs,\"\\n\",\"number of b's = \", numBs)"
      ],
      "execution_count": 0,
      "outputs": []
    }
  ]
}