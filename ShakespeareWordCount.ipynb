{
  "nbformat": 4,
  "nbformat_minor": 0,
  "metadata": {
    "colab": {
      "name": "ShakespearWordCount.ipynb",
      "provenance": [],
      "private_outputs": true,
      "authorship_tag": "ABX9TyPApMXa2Wxgx2phmKpQnj9N",
      "include_colab_link": true
    },
    "kernelspec": {
      "name": "python3",
      "display_name": "Python 3"
    },
    "accelerator": "GPU"
  },
  "cells": [
    {
      "cell_type": "markdown",
      "metadata": {
        "id": "view-in-github",
        "colab_type": "text"
      },
      "source": [
        "<a href=\"https://colab.research.google.com/github/cagBRT/PySpark/blob/master/ShakespearWordCount.ipynb\" target=\"_parent\"><img src=\"https://colab.research.google.com/assets/colab-badge.svg\" alt=\"Open In Colab\"/></a>"
      ]
    },
    {
      "cell_type": "code",
      "metadata": {
        "id": "Gipu7daQ4a_8",
        "colab_type": "code",
        "colab": {}
      },
      "source": [
        "!git clone https://github.com/cagBRT/PySpark.git"
      ],
      "execution_count": 0,
      "outputs": []
    },
    {
      "cell_type": "code",
      "metadata": {
        "id": "ukpJBgSr4ixG",
        "colab_type": "code",
        "colab": {}
      },
      "source": [
        "import time\n",
        "start_time = time.time()\n",
        "f=open(\"/content/PySpark/shakespeare.txt\")\n",
        "words_file = f.read()\n",
        "word_count = words_file.split()\n",
        "print(\"--- %s seconds ---\" % (time.time() - start_time))\n",
        "print('Number of words in text file :', len(word_count))"
      ],
      "execution_count": 0,
      "outputs": []
    }
  ]
}
